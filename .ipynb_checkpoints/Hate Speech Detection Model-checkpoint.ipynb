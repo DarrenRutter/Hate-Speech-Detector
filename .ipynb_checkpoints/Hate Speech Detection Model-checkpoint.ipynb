{
 "cells": [
  {
   "cell_type": "code",
   "execution_count": 2,
   "id": "db03a489",
   "metadata": {},
   "outputs": [
    {
     "data": {
      "text/html": [
       "<div>\n",
       "<style scoped>\n",
       "    .dataframe tbody tr th:only-of-type {\n",
       "        vertical-align: middle;\n",
       "    }\n",
       "\n",
       "    .dataframe tbody tr th {\n",
       "        vertical-align: top;\n",
       "    }\n",
       "\n",
       "    .dataframe thead th {\n",
       "        text-align: right;\n",
       "    }\n",
       "</style>\n",
       "<table border=\"1\" class=\"dataframe\">\n",
       "  <thead>\n",
       "    <tr style=\"text-align: right;\">\n",
       "      <th></th>\n",
       "      <th>id</th>\n",
       "      <th>test_case</th>\n",
       "      <th>label_gold</th>\n",
       "      <th>target_ident</th>\n",
       "      <th>direction</th>\n",
       "      <th>focus_words</th>\n",
       "      <th>case_templ</th>\n",
       "    </tr>\n",
       "  </thead>\n",
       "  <tbody>\n",
       "    <tr>\n",
       "      <th>0</th>\n",
       "      <td>1</td>\n",
       "      <td>I hate women.</td>\n",
       "      <td>hateful</td>\n",
       "      <td>women</td>\n",
       "      <td>general</td>\n",
       "      <td>hate</td>\n",
       "      <td>I hate [IDENTITY_P].</td>\n",
       "    </tr>\n",
       "    <tr>\n",
       "      <th>1</th>\n",
       "      <td>2</td>\n",
       "      <td>I hate trans people.</td>\n",
       "      <td>hateful</td>\n",
       "      <td>trans people</td>\n",
       "      <td>general</td>\n",
       "      <td>hate</td>\n",
       "      <td>I hate [IDENTITY_P].</td>\n",
       "    </tr>\n",
       "    <tr>\n",
       "      <th>2</th>\n",
       "      <td>3</td>\n",
       "      <td>I hate gay people.</td>\n",
       "      <td>hateful</td>\n",
       "      <td>gay people</td>\n",
       "      <td>general</td>\n",
       "      <td>hate</td>\n",
       "      <td>I hate [IDENTITY_P].</td>\n",
       "    </tr>\n",
       "    <tr>\n",
       "      <th>3</th>\n",
       "      <td>4</td>\n",
       "      <td>I hate black people.</td>\n",
       "      <td>hateful</td>\n",
       "      <td>black people</td>\n",
       "      <td>general</td>\n",
       "      <td>hate</td>\n",
       "      <td>I hate [IDENTITY_P].</td>\n",
       "    </tr>\n",
       "    <tr>\n",
       "      <th>4</th>\n",
       "      <td>5</td>\n",
       "      <td>I hate disabled people.</td>\n",
       "      <td>hateful</td>\n",
       "      <td>disabled people</td>\n",
       "      <td>general</td>\n",
       "      <td>hate</td>\n",
       "      <td>I hate [IDENTITY_P].</td>\n",
       "    </tr>\n",
       "  </tbody>\n",
       "</table>\n",
       "</div>"
      ],
      "text/plain": [
       "   id                 test_case label_gold     target_ident direction  \\\n",
       "0   1            I hate women.     hateful            women   general   \n",
       "1   2     I hate trans people.     hateful     trans people   general   \n",
       "2   3       I hate gay people.     hateful       gay people   general   \n",
       "3   4     I hate black people.     hateful     black people   general   \n",
       "4   5  I hate disabled people.     hateful  disabled people   general   \n",
       "\n",
       "  focus_words            case_templ  \n",
       "0        hate  I hate [IDENTITY_P].  \n",
       "1        hate  I hate [IDENTITY_P].  \n",
       "2        hate  I hate [IDENTITY_P].  \n",
       "3        hate  I hate [IDENTITY_P].  \n",
       "4        hate  I hate [IDENTITY_P].  "
      ]
     },
     "execution_count": 2,
     "metadata": {},
     "output_type": "execute_result"
    }
   ],
   "source": [
    "# Import libraries and data\n",
    "import time\n",
    "start_time = time.time()\n",
    "\n",
    "import pandas as pd\n",
    "import numpy as np\n",
    "import re\n",
    "import string\n",
    "from sklearn.feature_extraction.text import CountVectorizer\n",
    "from sklearn.model_selection import train_test_split\n",
    "from sklearn.tree import DecisionTreeClassifier\n",
    "from sklearn.metrics import accuracy_score\n",
    "from sklearn.naive_bayes import MultinomialNB\n",
    "from sklearn.linear_model import LogisticRegression\n",
    "from sklearn.metrics import confusion_matrix\n",
    "from sklearn.metrics import plot_confusion_matrix\n",
    "import matplotlib.pyplot as plt\n",
    "\n",
    "# Convert CSV to DataFrame\n",
    "data = pd.read_csv(\"Combined Dataset.csv\", encoding='cp1252')\n",
    "data.head()"
   ]
  },
  {
   "cell_type": "code",
   "execution_count": 3,
   "id": "7ea396d5",
   "metadata": {
    "scrolled": true
   },
   "outputs": [
    {
     "data": {
      "text/html": [
       "<div>\n",
       "<style scoped>\n",
       "    .dataframe tbody tr th:only-of-type {\n",
       "        vertical-align: middle;\n",
       "    }\n",
       "\n",
       "    .dataframe tbody tr th {\n",
       "        vertical-align: top;\n",
       "    }\n",
       "\n",
       "    .dataframe thead th {\n",
       "        text-align: right;\n",
       "    }\n",
       "</style>\n",
       "<table border=\"1\" class=\"dataframe\">\n",
       "  <thead>\n",
       "    <tr style=\"text-align: right;\">\n",
       "      <th></th>\n",
       "      <th>ID</th>\n",
       "      <th>Tweet</th>\n",
       "      <th>Classification</th>\n",
       "      <th>Target</th>\n",
       "      <th>Direction</th>\n",
       "      <th>Focus Words</th>\n",
       "      <th>Case Template</th>\n",
       "    </tr>\n",
       "  </thead>\n",
       "  <tbody>\n",
       "    <tr>\n",
       "      <th>0</th>\n",
       "      <td>1</td>\n",
       "      <td>I hate women.</td>\n",
       "      <td>hateful</td>\n",
       "      <td>women</td>\n",
       "      <td>general</td>\n",
       "      <td>hate</td>\n",
       "      <td>I hate [IDENTITY_P].</td>\n",
       "    </tr>\n",
       "    <tr>\n",
       "      <th>1</th>\n",
       "      <td>2</td>\n",
       "      <td>I hate trans people.</td>\n",
       "      <td>hateful</td>\n",
       "      <td>trans people</td>\n",
       "      <td>general</td>\n",
       "      <td>hate</td>\n",
       "      <td>I hate [IDENTITY_P].</td>\n",
       "    </tr>\n",
       "    <tr>\n",
       "      <th>2</th>\n",
       "      <td>3</td>\n",
       "      <td>I hate gay people.</td>\n",
       "      <td>hateful</td>\n",
       "      <td>gay people</td>\n",
       "      <td>general</td>\n",
       "      <td>hate</td>\n",
       "      <td>I hate [IDENTITY_P].</td>\n",
       "    </tr>\n",
       "    <tr>\n",
       "      <th>3</th>\n",
       "      <td>4</td>\n",
       "      <td>I hate black people.</td>\n",
       "      <td>hateful</td>\n",
       "      <td>black people</td>\n",
       "      <td>general</td>\n",
       "      <td>hate</td>\n",
       "      <td>I hate [IDENTITY_P].</td>\n",
       "    </tr>\n",
       "    <tr>\n",
       "      <th>4</th>\n",
       "      <td>5</td>\n",
       "      <td>I hate disabled people.</td>\n",
       "      <td>hateful</td>\n",
       "      <td>disabled people</td>\n",
       "      <td>general</td>\n",
       "      <td>hate</td>\n",
       "      <td>I hate [IDENTITY_P].</td>\n",
       "    </tr>\n",
       "  </tbody>\n",
       "</table>\n",
       "</div>"
      ],
      "text/plain": [
       "   ID                     Tweet Classification           Target Direction  \\\n",
       "0   1            I hate women.         hateful            women   general   \n",
       "1   2     I hate trans people.         hateful     trans people   general   \n",
       "2   3       I hate gay people.         hateful       gay people   general   \n",
       "3   4     I hate black people.         hateful     black people   general   \n",
       "4   5  I hate disabled people.         hateful  disabled people   general   \n",
       "\n",
       "  Focus Words         Case Template  \n",
       "0        hate  I hate [IDENTITY_P].  \n",
       "1        hate  I hate [IDENTITY_P].  \n",
       "2        hate  I hate [IDENTITY_P].  \n",
       "3        hate  I hate [IDENTITY_P].  \n",
       "4        hate  I hate [IDENTITY_P].  "
      ]
     },
     "execution_count": 3,
     "metadata": {},
     "output_type": "execute_result"
    }
   ],
   "source": [
    "# Rename columns to Camel Case\n",
    "data.rename(columns={'id':'ID', 'test_case':'Tweet',\n",
    "                     'label_gold':'Classification', 'target_ident':'Target',\n",
    "                     'direction':'Direction', 'focus_words':'Focus Words',\n",
    "                     'case_templ':'Case Template'}, inplace=True)\n",
    "\n",
    "data.head()"
   ]
  },
  {
   "cell_type": "code",
   "execution_count": 4,
   "id": "d124c4aa",
   "metadata": {
    "scrolled": false
   },
   "outputs": [
    {
     "data": {
      "text/plain": [
       "non-hateful    23604\n",
       "hateful         7298\n",
       "Name: Classification, dtype: int64"
      ]
     },
     "execution_count": 4,
     "metadata": {},
     "output_type": "execute_result"
    }
   ],
   "source": [
    "# Print out data classification counts\n",
    "data.Classification.value_counts()"
   ]
  },
  {
   "cell_type": "code",
   "execution_count": 5,
   "id": "b72f7d56",
   "metadata": {
    "scrolled": true
   },
   "outputs": [
    {
     "data": {
      "text/plain": [
       "<AxesSubplot:>"
      ]
     },
     "execution_count": 5,
     "metadata": {},
     "output_type": "execute_result"
    },
    {
     "data": {
      "image/png": "[encoded data removed]",
      "text/plain": [
       "<Figure size 432x288 with 1 Axes>"
      ]
     },
     "metadata": {
      "needs_background": "light"
     },
     "output_type": "display_data"
    }
   ],
   "source": [
    "# Put this in a bar chart\n",
    "data['Classification'].value_counts().plot(kind=\"bar\", alpha=0.5)"
   ]
  },
  {
   "cell_type": "code",
   "execution_count": 6,
   "id": "5e9dcf8e",
   "metadata": {
    "scrolled": true
   },
   "outputs": [
    {
     "data": {
      "text/html": [
       "<div>\n",
       "<style scoped>\n",
       "    .dataframe tbody tr th:only-of-type {\n",
       "        vertical-align: middle;\n",
       "    }\n",
       "\n",
       "    .dataframe tbody tr th {\n",
       "        vertical-align: top;\n",
       "    }\n",
       "\n",
       "    .dataframe thead th {\n",
       "        text-align: right;\n",
       "    }\n",
       "</style>\n",
       "<table border=\"1\" class=\"dataframe\">\n",
       "  <thead>\n",
       "    <tr style=\"text-align: right;\">\n",
       "      <th></th>\n",
       "      <th>ID</th>\n",
       "      <th>Tweet</th>\n",
       "      <th>Classification</th>\n",
       "      <th>Target</th>\n",
       "      <th>Direction</th>\n",
       "      <th>Focus Words</th>\n",
       "      <th>Case Template</th>\n",
       "    </tr>\n",
       "  </thead>\n",
       "  <tbody>\n",
       "    <tr>\n",
       "      <th>0</th>\n",
       "      <td>1</td>\n",
       "      <td>i hate women</td>\n",
       "      <td>hateful</td>\n",
       "      <td>women</td>\n",
       "      <td>general</td>\n",
       "      <td>hate</td>\n",
       "      <td>I hate [IDENTITY_P].</td>\n",
       "    </tr>\n",
       "    <tr>\n",
       "      <th>1</th>\n",
       "      <td>2</td>\n",
       "      <td>i hate trans people</td>\n",
       "      <td>hateful</td>\n",
       "      <td>trans people</td>\n",
       "      <td>general</td>\n",
       "      <td>hate</td>\n",
       "      <td>I hate [IDENTITY_P].</td>\n",
       "    </tr>\n",
       "    <tr>\n",
       "      <th>2</th>\n",
       "      <td>3</td>\n",
       "      <td>i hate gay people</td>\n",
       "      <td>hateful</td>\n",
       "      <td>gay people</td>\n",
       "      <td>general</td>\n",
       "      <td>hate</td>\n",
       "      <td>I hate [IDENTITY_P].</td>\n",
       "    </tr>\n",
       "    <tr>\n",
       "      <th>3</th>\n",
       "      <td>4</td>\n",
       "      <td>i hate black people</td>\n",
       "      <td>hateful</td>\n",
       "      <td>black people</td>\n",
       "      <td>general</td>\n",
       "      <td>hate</td>\n",
       "      <td>I hate [IDENTITY_P].</td>\n",
       "    </tr>\n",
       "    <tr>\n",
       "      <th>4</th>\n",
       "      <td>5</td>\n",
       "      <td>i hate disabled people</td>\n",
       "      <td>hateful</td>\n",
       "      <td>disabled people</td>\n",
       "      <td>general</td>\n",
       "      <td>hate</td>\n",
       "      <td>I hate [IDENTITY_P].</td>\n",
       "    </tr>\n",
       "  </tbody>\n",
       "</table>\n",
       "</div>"
      ],
      "text/plain": [
       "   ID                    Tweet Classification           Target Direction  \\\n",
       "0   1            i hate women         hateful            women   general   \n",
       "1   2     i hate trans people         hateful     trans people   general   \n",
       "2   3       i hate gay people         hateful       gay people   general   \n",
       "3   4     i hate black people         hateful     black people   general   \n",
       "4   5  i hate disabled people         hateful  disabled people   general   \n",
       "\n",
       "  Focus Words         Case Template  \n",
       "0        hate  I hate [IDENTITY_P].  \n",
       "1        hate  I hate [IDENTITY_P].  \n",
       "2        hate  I hate [IDENTITY_P].  \n",
       "3        hate  I hate [IDENTITY_P].  \n",
       "4        hate  I hate [IDENTITY_P].  "
      ]
     },
     "execution_count": 6,
     "metadata": {},
     "output_type": "execute_result"
    }
   ],
   "source": [
    "# Clean data - removes special characters, escape characters, links, tags, hashtags etc.\n",
    "def clean(text):\n",
    "    text = str(text).lower()\n",
    "    text = re.sub('\\[.*?\\]', '', text)\n",
    "    text = re.sub('https?://\\S+|www.\\.\\S+', '', text)\n",
    "    text = re.sub('<.*?>+', '', text)\n",
    "    text = re.sub('[%s]' % re.escape(string.punctuation), '', text)\n",
    "    text = re.sub('\\n', '', text)\n",
    "    text = re.sub('\\w*\\d\\w*', '', text)\n",
    "    text = re.sub('#[A-Za-z0-9_]+', '', text)\n",
    "    text = re.sub('@[A-Za-z0-9_]+', '', text)\n",
    "    text = [word for word in text.split(' ')]\n",
    "    text =\" \".join(text)\n",
    "    return text\n",
    "data[\"Tweet\"] = data[\"Tweet\"].apply(clean)\n",
    "\n",
    "data.head()"
   ]
  },
  {
   "cell_type": "code",
   "execution_count": 7,
   "id": "50910e6a",
   "metadata": {},
   "outputs": [],
   "source": [
    "# Export DataFrame to CSV\n",
    "\n",
    "data.to_csv('cleaned_dataset.csv')"
   ]
  },
  {
   "cell_type": "code",
   "execution_count": 8,
   "id": "da7b38a7",
   "metadata": {},
   "outputs": [],
   "source": [
    "# Fit the vectorizer \n",
    "x = np.array(data[\"Tweet\"])\n",
    "y = np.array(data[\"Classification\"])\n",
    "\n",
    "cv = CountVectorizer()\n",
    "X = cv.fit_transform(x)\n",
    "\n",
    "# Split the data into training and test sets\n",
    "\n",
    "X_train, X_test, y_train, y_test = train_test_split(X, y,\n",
    "                                                    test_size = 0.33,\n",
    "                                                    random_state=42)"
   ]
  },
  {
   "cell_type": "code",
   "execution_count": 9,
   "id": "5dca11e7",
   "metadata": {
    "scrolled": true
   },
   "outputs": [
    {
     "name": "stdout",
     "output_type": "stream",
     "text": [
      "No. of training examples: 20704\n",
      "No. of testing examples: 10198\n"
     ]
    }
   ],
   "source": [
    "print(f\"No. of training examples: {X_train.shape[0]}\")\n",
    "print(f\"No. of testing examples: {X_test.shape[0]}\")"
   ]
  },
  {
   "cell_type": "code",
   "execution_count": 10,
   "id": "fa1618b8",
   "metadata": {},
   "outputs": [
    {
     "name": "stderr",
     "output_type": "stream",
     "text": [
      "C:\\Users\\darre\\anaconda3\\lib\\site-packages\\sklearn\\utils\\deprecation.py:87: FutureWarning: Function plot_confusion_matrix is deprecated; Function `plot_confusion_matrix` is deprecated in 1.0 and will be removed in 1.2. Use one of the class methods: ConfusionMatrixDisplay.from_predictions or ConfusionMatrixDisplay.from_estimator.\n",
      "  warnings.warn(msg, category=FutureWarning)\n"
     ]
    },
    {
     "data": {
      "image/png": "[encoded data removed]",
      "text/plain": [
       "<Figure size 432x288 with 2 Axes>"
      ]
     },
     "metadata": {
      "needs_background": "light"
     },
     "output_type": "display_data"
    },
    {
     "name": "stdout",
     "output_type": "stream",
     "text": [
      "The accuracy of the Decision Tree model is 81.35%.\n"
     ]
    }
   ],
   "source": [
    "# Decision Tree \n",
    "decision_tree_model = DecisionTreeClassifier()\n",
    "decision_tree_model.fit(X_train, y_train)\n",
    "\n",
    "# Test the model\n",
    "y_decision_prediction = decision_tree_model.predict(X_test)\n",
    "\n",
    "# Find the accuracy of model\n",
    "decision_accuracy = accuracy_score(y_test, y_decision_prediction)\n",
    "decision_accuracy_round = round(decision_accuracy,4)\n",
    "\n",
    "# Confusion Matrix \n",
    "confusion_matrix(y_test, y_decision_prediction)\n",
    "plot_confusion_matrix(decision_tree_model, X_test, y_test)\n",
    "plt.show()\n",
    "\n",
    "print(f\"The accuracy of the Decision Tree model is {(decision_accuracy_round*100):.2f}%.\")"
   ]
  },
  {
   "cell_type": "code",
   "execution_count": 11,
   "id": "bfe61377",
   "metadata": {
    "scrolled": true
   },
   "outputs": [
    {
     "name": "stderr",
     "output_type": "stream",
     "text": [
      "C:\\Users\\darre\\anaconda3\\lib\\site-packages\\sklearn\\utils\\deprecation.py:87: FutureWarning: Function plot_confusion_matrix is deprecated; Function `plot_confusion_matrix` is deprecated in 1.0 and will be removed in 1.2. Use one of the class methods: ConfusionMatrixDisplay.from_predictions or ConfusionMatrixDisplay.from_estimator.\n",
      "  warnings.warn(msg, category=FutureWarning)\n"
     ]
    },
    {
     "data": {
      "image/png": "[encoded data removed]",
      "text/plain": [
       "<Figure size 432x288 with 2 Axes>"
      ]
     },
     "metadata": {
      "needs_background": "light"
     },
     "output_type": "display_data"
    },
    {
     "name": "stdout",
     "output_type": "stream",
     "text": [
      "The accuracy of the Naive Bayes model is 81.92%.\n"
     ]
    }
   ],
   "source": [
    "# Naive Bayes\n",
    "naive_bayes_model = MultinomialNB()\n",
    "naive_bayes_model.fit(X_train, y_train)\n",
    "\n",
    "# Test the model\n",
    "y_naive_bayes_prediction = naive_bayes_model.predict(X_test)\n",
    "\n",
    "# Find the accuracy of the model\n",
    "naive_bayes_accuracy = accuracy_score(y_test, y_naive_bayes_prediction)\n",
    "naive_bayes_accuracy_round = round(naive_bayes_accuracy,4)\n",
    "\n",
    "# Confusion Matrix \n",
    "confusion_matrix(y_test, y_naive_bayes_prediction)\n",
    "plot_confusion_matrix(naive_bayes_model, X_test, y_test)\n",
    "plt.show()\n",
    "\n",
    "print(f\"The accuracy of the Naive Bayes model is {(naive_bayes_accuracy_round*100):.2f}%.\")"
   ]
  },
  {
   "cell_type": "code",
   "execution_count": 12,
   "id": "478f11b8",
   "metadata": {},
   "outputs": [
    {
     "name": "stderr",
     "output_type": "stream",
     "text": [
      "C:\\Users\\darre\\anaconda3\\lib\\site-packages\\sklearn\\linear_model\\_logistic.py:814: ConvergenceWarning: lbfgs failed to converge (status=1):\n",
      "STOP: TOTAL NO. of ITERATIONS REACHED LIMIT.\n",
      "\n",
      "Increase the number of iterations (max_iter) or scale the data as shown in:\n",
      "    https://scikit-learn.org/stable/modules/preprocessing.html\n",
      "Please also refer to the documentation for alternative solver options:\n",
      "    https://scikit-learn.org/stable/modules/linear_model.html#logistic-regression\n",
      "  n_iter_i = _check_optimize_result(\n",
      "C:\\Users\\darre\\anaconda3\\lib\\site-packages\\sklearn\\utils\\deprecation.py:87: FutureWarning: Function plot_confusion_matrix is deprecated; Function `plot_confusion_matrix` is deprecated in 1.0 and will be removed in 1.2. Use one of the class methods: ConfusionMatrixDisplay.from_predictions or ConfusionMatrixDisplay.from_estimator.\n",
      "  warnings.warn(msg, category=FutureWarning)\n"
     ]
    },
    {
     "data": {
      "image/png": "[encoded data removed]",
      "text/plain": [
       "<Figure size 432x288 with 2 Axes>"
      ]
     },
     "metadata": {
      "needs_background": "light"
     },
     "output_type": "display_data"
    },
    {
     "name": "stdout",
     "output_type": "stream",
     "text": [
      "The accuracy of the Logistic Regression model is 85.50%.\n"
     ]
    }
   ],
   "source": [
    "# Regression\n",
    "regression_model = LogisticRegression() \n",
    "regression_model.fit(X_train, y_train)\n",
    "\n",
    "# Fit the models\n",
    "y_regression_model_prediction = regression_model.predict(X_test)\n",
    "\n",
    "# Find the accuracy of the model\n",
    "regression_accuracy = accuracy_score(y_test, y_regression_model_prediction)\n",
    "regression_accuracy_round = round(regression_accuracy,4)\n",
    "\n",
    "# Confusion Matrix \n",
    "confusion_matrix(y_test, y_regression_model_prediction)\n",
    "plot_confusion_matrix(regression_model, X_test, y_test)\n",
    "plt.show()\n",
    "\n",
    "print(f\"The accuracy of the Logistic Regression model is {(regression_accuracy_round*100):.2f}%.\")"
   ]
  },
  {
   "cell_type": "code",
   "execution_count": 13,
   "id": "948e03b6",
   "metadata": {
    "scrolled": true
   },
   "outputs": [
    {
     "data": {
      "image/png": "[encoded data removed]",
      "text/plain": [
       "<Figure size 432x288 with 1 Axes>"
      ]
     },
     "metadata": {
      "needs_background": "light"
     },
     "output_type": "display_data"
    }
   ],
   "source": [
    "# Print accuracies of the models in a bar chart\n",
    "\n",
    "methods = ('Decision Tree', 'Naive Bayes', 'Logistic Regression')\n",
    "y_pos = np.arange(len(methods))\n",
    "accuracies = [decision_accuracy, naive_bayes_accuracy, regression_accuracy]\n",
    "plt.bar(y_pos, accuracies, align='center', alpha=0.5)\n",
    "plt.xticks(y_pos, methods)\n",
    "plt.ylabel('Accuracy')\n",
    "plt.title('Model Accuracy Comparison')\n",
    "plt.show()"
   ]
  },
  {
   "cell_type": "code",
   "execution_count": 16,
   "id": "7161753b",
   "metadata": {},
   "outputs": [
    {
     "data": {
      "text/plain": [
       "gay people         551\n",
       "women              509\n",
       "disabled people    484\n",
       "Muslims            484\n",
       "black people       482\n",
       "trans people       463\n",
       "immigrants         463\n",
       "Name: Target, dtype: int64"
      ]
     },
     "execution_count": 16,
     "metadata": {},
     "output_type": "execute_result"
    }
   ],
   "source": [
    "# Prints the counts of each target of hate speech\n",
    "data.Target.value_counts()"
   ]
  },
  {
   "cell_type": "code",
   "execution_count": 14,
   "id": "606fc3fa",
   "metadata": {},
   "outputs": [
    {
     "data": {
      "text/plain": [
       "<AxesSubplot:>"
      ]
     },
     "execution_count": 14,
     "metadata": {},
     "output_type": "execute_result"
    },
    {
     "data": {
      "image/png": "[encoded data removed]",
      "text/plain": [
       "<Figure size 432x288 with 1 Axes>"
      ]
     },
     "metadata": {
      "needs_background": "light"
     },
     "output_type": "display_data"
    }
   ],
   "source": [
    "## Put this in a bar chart \n",
    "data['Target'].value_counts().plot(kind=\"bar\", alpha=0.5)"
   ]
  },
  {
   "cell_type": "code",
   "execution_count": 15,
   "id": "32d39334",
   "metadata": {},
   "outputs": [
    {
     "name": "stdout",
     "output_type": "stream",
     "text": [
      "Time to run: 29.305631160736084 seconds \n"
     ]
    }
   ],
   "source": [
    "print(f\"Time to run: %s seconds \" % (time.time() - start_time))"
   ]
  }
 ],
 "metadata": {
  "kernelspec": {
   "display_name": "Python 3 (ipykernel)",
   "language": "python",
   "name": "python3"
  },
  "language_info": {
   "codemirror_mode": {
    "name": "ipython",
    "version": 3
   },
   "file_extension": ".py",
   "mimetype": "text/x-python",
   "name": "python",
   "nbconvert_exporter": "python",
   "pygments_lexer": "ipython3",
   "version": "3.9.13"
  }
 },
 "nbformat": 4,
 "nbformat_minor": 5
}
